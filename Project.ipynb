{
 "nbformat": 4,
 "nbformat_minor": 0,
 "metadata": {
  "colab": {
   "provenance": [],
   "gpuType": "T4"
  },
  "kernelspec": {
   "name": "tfenv",
   "language": "python",
   "display_name": "tfEnv"
  },
  "language_info": {
   "name": "python"
  },
  "accelerator": "GPU"
 },
 "cells": [
  {
   "cell_type": "markdown",
   "source": [
    "# OASIS Dementia Classification AI\n",
    "\n",
    "By Neil G, Nishanth K, Jacob B, and Daniel D"
   ],
   "metadata": {
    "collapsed": false
   }
  },
  {
   "cell_type": "markdown",
   "source": [
    "### Imports"
   ],
   "metadata": {
    "collapsed": false
   }
  },
  {
   "cell_type": "code",
   "execution_count": 1,
   "metadata": {
    "id": "E9kLPBPZVug4",
    "ExecuteTime": {
     "end_time": "2024-09-28T22:50:38.062685400Z",
     "start_time": "2024-09-28T22:50:33.297640900Z"
    }
   },
   "outputs": [],
   "source": [
    "import tensorflow as tf\n",
    "import numpy as np\n",
    "import keras\n",
    "import os\n",
    "import matplotlib.pyplot as plt\n",
    "import random\n",
    "\n",
    "from keras import layers\n",
    "from keras.optimizers import Adam\n",
    "from keras.callbacks import EarlyStopping, ModelCheckpoint\n",
    "from keras.saving.save import load_model"
   ]
  },
  {
   "cell_type": "markdown",
   "source": [
    "### Setting Up the GPU Environment"
   ],
   "metadata": {
    "collapsed": false
   }
  },
  {
   "cell_type": "markdown",
   "source": [
    "We first ensure that a GPU is present on the machine used."
   ],
   "metadata": {
    "collapsed": false
   }
  },
  {
   "cell_type": "code",
   "execution_count": 2,
   "outputs": [
    {
     "data": {
      "text/plain": "[PhysicalDevice(name='/physical_device:GPU:0', device_type='GPU')]"
     },
     "execution_count": 2,
     "metadata": {},
     "output_type": "execute_result"
    }
   ],
   "source": [
    "tf.config.list_physical_devices('GPU')"
   ],
   "metadata": {
    "collapsed": false,
    "ExecuteTime": {
     "end_time": "2024-09-28T22:50:38.247628200Z",
     "start_time": "2024-09-28T22:50:38.064187Z"
    }
   }
  },
  {
   "cell_type": "markdown",
   "source": [
    "We then limit GPU memory growth to only allocate as much GPU memory as needed during runtime. Basically, we ensure that Tensorflow dynamically updates the necessary GPU memory to prevent Tensorflow from using all of the memory available at once. To avoid memory fragmentation, no memory is released."
   ],
   "metadata": {
    "collapsed": false
   }
  },
  {
   "cell_type": "code",
   "execution_count": 3,
   "outputs": [
    {
     "name": "stdout",
     "output_type": "stream",
     "text": [
      "1 Physical GPUs, 1 Logical GPUs\n"
     ]
    }
   ],
   "source": [
    "gpus = tf.config.list_physical_devices('GPU')\n",
    "if gpus:\n",
    "    try:\n",
    "        for gpu in gpus:\n",
    "            tf.config.experimental.set_memory_growth(gpu, True)\n",
    "        logical_gpus = tf.config.list_logical_devices('GPU')\n",
    "        print(len(gpus), 'Physical GPUs,', len(logical_gpus), 'Logical GPUs')\n",
    "    except RuntimeError as e:\n",
    "        print(e)"
   ],
   "metadata": {
    "collapsed": false,
    "ExecuteTime": {
     "end_time": "2024-09-28T22:50:39.187141300Z",
     "start_time": "2024-09-28T22:50:38.249131Z"
    }
   }
  },
  {
   "cell_type": "markdown",
   "source": [
    "### Preparing the Data"
   ],
   "metadata": {
    "collapsed": false
   }
  },
  {
   "cell_type": "markdown",
   "source": [
    "We set global variables representing the image width and height."
   ],
   "metadata": {
    "collapsed": false
   }
  },
  {
   "cell_type": "code",
   "source": [
    "img_width = 124\n",
    "img_height = 62"
   ],
   "metadata": {
    "id": "tCnYYHf9V60t",
    "ExecuteTime": {
     "end_time": "2024-09-28T22:50:39.232146200Z",
     "start_time": "2024-09-28T22:50:39.188642600Z"
    }
   },
   "execution_count": 4,
   "outputs": []
  },
  {
   "cell_type": "markdown",
   "source": [
    "Part of the data has already been processed (see the `npz.generator.py` file). The OASIS dataset contains 61 slices of the MRI images per patient. We took each set of a patient's MRI slices and stacked them into a 3D design. We downsized the images to the sizes defined above and converted to grayscale (since MRI images are effectively already in grayscale), to save memory and training time, as well as reducing model complexity. These stacked 3D tensors were stored in a different directory as `.npz` files. We collect the examples and labels to then make a Tensorflow dataset out of them. It is important to note that some of the data classes were amplified by duplicating the `.npz` data in order to provide more samples (namely, for the moderate dementia class). "
   ],
   "metadata": {
    "collapsed": false
   }
  },
  {
   "cell_type": "code",
   "source": [
    "path = 'Stacked'\n",
    "\n",
    "i = 0\n",
    "examples = []\n",
    "labels = []\n",
    "for fp in sorted(os.listdir(path)):\n",
    "    if fp.startswith('.'):\n",
    "        continue\n",
    "    for f in sorted(os.listdir(os.path.join(path, fp))):\n",
    "        if f.startswith('.'):\n",
    "            continue\n",
    "        with np.load(os.path.join(path, fp, f)) as data:\n",
    "            features = data['arr_0']\n",
    "            examples.append(features)\n",
    "            labels.append(i)\n",
    "    i += 1\n",
    "\n",
    "shape = len(examples)\n",
    "print(shape)"
   ],
   "metadata": {
    "id": "rG9FWG1UWNDm",
    "ExecuteTime": {
     "end_time": "2024-09-28T22:50:52.372948300Z",
     "start_time": "2024-09-28T22:50:39.205747500Z"
    }
   },
   "execution_count": 5,
   "outputs": [
    {
     "name": "stdout",
     "output_type": "stream",
     "text": [
      "1669\n"
     ]
    }
   ]
  },
  {
   "cell_type": "markdown",
   "source": [
    "We zip the examples and labels and then shuffle them with a set random seed of 42. We zip the lists to ensure that the example and label match up in the returned list (so that way the right label is with the right example). We then split the lists manually into train and test sets, using 80% for training. We then make a Tensorflow dataset from the train and test tensor slices. We delete some of the lists to save memory (note: `gc.collect()` was not called)."
   ],
   "metadata": {
    "collapsed": false
   }
  },
  {
   "cell_type": "code",
   "source": [
    "temp = list(zip(examples, labels))\n",
    "random.Random(42).shuffle(temp)\n",
    "res1, res2 = zip(*temp)\n",
    "res1, res2 = list(res1), list(res2)\n",
    "\n",
    "train_examples = res1[:int(0.8*len(res1))]\n",
    "train_labels = res2[:int(0.8*len(res2))]\n",
    "test_examples = res1[int(0.8*len(res1)):]\n",
    "test_labels = res2[int(0.8*len(res2)):]\n",
    "\n",
    "ds_train = tf.data.Dataset.from_tensor_slices((train_examples, train_labels))\n",
    "ds_test = tf.data.Dataset.from_tensor_slices((test_examples, test_labels))\n",
    "\n",
    "del examples, labels, res1, res2, temp"
   ],
   "metadata": {
    "id": "c0-3WBqxXzOi",
    "ExecuteTime": {
     "end_time": "2024-09-28T22:51:29.232445400Z",
     "start_time": "2024-09-28T22:50:52.375445500Z"
    }
   },
   "execution_count": 6,
   "outputs": []
  },
  {
   "cell_type": "markdown",
   "source": [
    "We batch the train dataset in batches of 16 and then shuffle the train dataset once again with a set seed."
   ],
   "metadata": {
    "collapsed": false
   }
  },
  {
   "cell_type": "code",
   "source": [
    "batch_size = 16\n",
    "\n",
    "ds_train = ds_train.batch(batch_size).shuffle(seed=42, buffer_size=1250)"
   ],
   "metadata": {
    "id": "lMK3v8j-YMI-",
    "ExecuteTime": {
     "end_time": "2024-09-28T22:51:29.278449200Z",
     "start_time": "2024-09-28T22:51:29.231945900Z"
    }
   },
   "execution_count": 7,
   "outputs": []
  },
  {
   "cell_type": "markdown",
   "source": [
    "### Model Design"
   ],
   "metadata": {
    "collapsed": false
   }
  },
  {
   "cell_type": "markdown",
   "source": [
    "We utilize Tensorflow's functional API to make this model. We take an input layer of the image height and image width, each having 61 slices per patient, and 1 extra channel for the grayscale value. We pass this input layer into two sets of 3 layers, containing a Conv3D, MaxPool3D, and BatchNormalization layer. We then pass that functional model into a GlobalAveragePooling3D layer and then two Dense layers, with the second having 4 units to come to a conclusion. The model is created and summarized."
   ],
   "metadata": {
    "collapsed": false
   }
  },
  {
   "cell_type": "code",
   "source": [
    "inputs = layers.Input(shape=(img_height, img_width, 61, 1))\n",
    "\n",
    "x = layers.Conv3D(filters=16, kernel_size=3, activation='relu')(inputs)\n",
    "x = layers.MaxPool3D(pool_size=2)(x)\n",
    "x = layers.BatchNormalization()(x)\n",
    "\n",
    "x = layers.Conv3D(filters=32, kernel_size=3, activation='relu')(x)\n",
    "x = layers.MaxPool3D(pool_size=2)(x)\n",
    "x = layers.BatchNormalization()(x)\n",
    "\n",
    "x = layers.GlobalAveragePooling3D()(x)\n",
    "x = layers.Dense(units=64, activation='relu')(x)\n",
    "\n",
    "outputs = layers.Dense(units=4, activation='sigmoid')(x)\n",
    "\n",
    "model = keras.Model(inputs, outputs)\n",
    "model.summary()"
   ],
   "metadata": {
    "id": "iZN8zhCsYbbT",
    "ExecuteTime": {
     "end_time": "2024-09-28T22:51:29.375947400Z",
     "start_time": "2024-09-28T22:51:29.282447900Z"
    }
   },
   "execution_count": 8,
   "outputs": [
    {
     "name": "stdout",
     "output_type": "stream",
     "text": [
      "Model: \"model\"\n",
      "_________________________________________________________________\n",
      " Layer (type)                Output Shape              Param #   \n",
      "=================================================================\n",
      " input_1 (InputLayer)        [(None, 62, 124, 61, 1)]  0         \n",
      "                                                                 \n",
      " conv3d (Conv3D)             (None, 60, 122, 59, 16)   448       \n",
      "                                                                 \n",
      " max_pooling3d (MaxPooling3D  (None, 30, 61, 29, 16)   0         \n",
      " )                                                               \n",
      "                                                                 \n",
      " batch_normalization (BatchN  (None, 30, 61, 29, 16)   64        \n",
      " ormalization)                                                   \n",
      "                                                                 \n",
      " conv3d_1 (Conv3D)           (None, 28, 59, 27, 32)    13856     \n",
      "                                                                 \n",
      " max_pooling3d_1 (MaxPooling  (None, 14, 29, 13, 32)   0         \n",
      " 3D)                                                             \n",
      "                                                                 \n",
      " batch_normalization_1 (Batc  (None, 14, 29, 13, 32)   128       \n",
      " hNormalization)                                                 \n",
      "                                                                 \n",
      " global_average_pooling3d (G  (None, 32)               0         \n",
      " lobalAveragePooling3D)                                          \n",
      "                                                                 \n",
      " dense (Dense)               (None, 64)                2112      \n",
      "                                                                 \n",
      " dense_1 (Dense)             (None, 4)                 260       \n",
      "                                                                 \n",
      "=================================================================\n",
      "Total params: 16,868\n",
      "Trainable params: 16,772\n",
      "Non-trainable params: 96\n",
      "_________________________________________________________________\n"
     ]
    }
   ]
  },
  {
   "cell_type": "markdown",
   "source": [
    "We then train the model using the Adam optimizer with a learning rate of 0.01. We use SparseCategoricalCrossentropy for the loss, and we track accuracy. We add two callbacks to the model: an EarlyStopping callback monitoring the loss with a patience value of 5, stopping the training if the loss isn't decreasing, and a ModelCheckpoint callback that saves the best model from training. We then fit the model to the train dataset for 50 epochs. We save the model as well."
   ],
   "metadata": {
    "collapsed": false
   }
  },
  {
   "cell_type": "code",
   "source": [
    "model.compile(optimizer=Adam(learning_rate=.01), loss=tf.keras.losses.SparseCategoricalCrossentropy(from_logits=False),\n",
    "              metrics=['accuracy'])\n",
    "\n",
    "metric = 'loss'\n",
    "callbacks = [EarlyStopping(monitor=metric, patience=5),\n",
    "             ModelCheckpoint(filepath='best_model.h5', monitor=metric, save_best_only=True)]\n",
    "history = model.fit(ds_train, epochs=50, verbose=1, callbacks=callbacks)\n",
    "\n",
    "model.save('models/hvair_4')"
   ],
   "metadata": {
    "id": "-zwrQT8QYoeE",
    "ExecuteTime": {
     "end_time": "2024-09-28T23:03:39.873521300Z",
     "start_time": "2024-09-28T22:51:29.373950100Z"
    }
   },
   "execution_count": 9,
   "outputs": [
    {
     "name": "stdout",
     "output_type": "stream",
     "text": [
      "Epoch 1/50\n",
      "84/84 [==============================] - 26s 177ms/step - loss: 0.7894 - accuracy: 0.6944\n",
      "Epoch 2/50\n",
      "84/84 [==============================] - 14s 165ms/step - loss: 0.6407 - accuracy: 0.7251\n",
      "Epoch 3/50\n",
      "84/84 [==============================] - 14s 164ms/step - loss: 0.5837 - accuracy: 0.7536\n",
      "Epoch 4/50\n",
      "84/84 [==============================] - 14s 164ms/step - loss: 0.4932 - accuracy: 0.7925\n",
      "Epoch 5/50\n",
      "84/84 [==============================] - 14s 167ms/step - loss: 0.4541 - accuracy: 0.8150\n",
      "Epoch 6/50\n",
      "84/84 [==============================] - 14s 167ms/step - loss: 0.4386 - accuracy: 0.8292\n",
      "Epoch 7/50\n",
      "84/84 [==============================] - 14s 166ms/step - loss: 0.3850 - accuracy: 0.8442\n",
      "Epoch 8/50\n",
      "84/84 [==============================] - 14s 167ms/step - loss: 0.3422 - accuracy: 0.8637\n",
      "Epoch 9/50\n",
      "84/84 [==============================] - 14s 164ms/step - loss: 0.3255 - accuracy: 0.8712\n",
      "Epoch 10/50\n",
      "84/84 [==============================] - 14s 167ms/step - loss: 0.3153 - accuracy: 0.8794\n",
      "Epoch 11/50\n",
      "84/84 [==============================] - 14s 164ms/step - loss: 0.2895 - accuracy: 0.8772\n",
      "Epoch 12/50\n",
      "84/84 [==============================] - 14s 164ms/step - loss: 0.2674 - accuracy: 0.8869\n",
      "Epoch 13/50\n",
      "84/84 [==============================] - 14s 165ms/step - loss: 0.2613 - accuracy: 0.9011\n",
      "Epoch 14/50\n",
      "84/84 [==============================] - 14s 165ms/step - loss: 0.2789 - accuracy: 0.8876\n",
      "Epoch 15/50\n",
      "84/84 [==============================] - 14s 165ms/step - loss: 0.2219 - accuracy: 0.9101\n",
      "Epoch 16/50\n",
      "84/84 [==============================] - 14s 164ms/step - loss: 0.1694 - accuracy: 0.9363\n",
      "Epoch 17/50\n",
      "84/84 [==============================] - 14s 164ms/step - loss: 0.1872 - accuracy: 0.9213\n",
      "Epoch 18/50\n",
      "84/84 [==============================] - 14s 164ms/step - loss: 0.1737 - accuracy: 0.9326\n",
      "Epoch 19/50\n",
      "84/84 [==============================] - 14s 164ms/step - loss: 0.1864 - accuracy: 0.9251\n",
      "Epoch 20/50\n",
      "84/84 [==============================] - 14s 165ms/step - loss: 0.1350 - accuracy: 0.9461\n",
      "Epoch 21/50\n",
      "84/84 [==============================] - 14s 164ms/step - loss: 0.1835 - accuracy: 0.9273\n",
      "Epoch 22/50\n",
      "84/84 [==============================] - 14s 165ms/step - loss: 0.2008 - accuracy: 0.9236\n",
      "Epoch 23/50\n",
      "84/84 [==============================] - 14s 165ms/step - loss: 0.1505 - accuracy: 0.9401\n",
      "Epoch 24/50\n",
      "84/84 [==============================] - 14s 165ms/step - loss: 0.1286 - accuracy: 0.9483\n",
      "Epoch 25/50\n",
      "84/84 [==============================] - 14s 165ms/step - loss: 0.0952 - accuracy: 0.9596\n",
      "Epoch 26/50\n",
      "84/84 [==============================] - 14s 164ms/step - loss: 0.1162 - accuracy: 0.9543\n",
      "Epoch 27/50\n",
      "84/84 [==============================] - 14s 163ms/step - loss: 0.0899 - accuracy: 0.9655\n",
      "Epoch 28/50\n",
      "84/84 [==============================] - 14s 164ms/step - loss: 0.1201 - accuracy: 0.9588\n",
      "Epoch 29/50\n",
      "84/84 [==============================] - 14s 164ms/step - loss: 0.0997 - accuracy: 0.9625\n",
      "Epoch 30/50\n",
      "84/84 [==============================] - 14s 164ms/step - loss: 0.0418 - accuracy: 0.9888\n",
      "Epoch 31/50\n",
      "84/84 [==============================] - 14s 164ms/step - loss: 0.0461 - accuracy: 0.9843\n",
      "Epoch 32/50\n",
      "84/84 [==============================] - 14s 164ms/step - loss: 0.0949 - accuracy: 0.9633\n",
      "Epoch 33/50\n",
      "84/84 [==============================] - 14s 164ms/step - loss: 0.0780 - accuracy: 0.9738\n",
      "Epoch 34/50\n",
      "84/84 [==============================] - 14s 164ms/step - loss: 0.0341 - accuracy: 0.9903\n",
      "Epoch 35/50\n",
      "84/84 [==============================] - 14s 165ms/step - loss: 0.0157 - accuracy: 0.9985\n",
      "Epoch 36/50\n",
      "84/84 [==============================] - 14s 165ms/step - loss: 0.0141 - accuracy: 0.9963\n",
      "Epoch 37/50\n",
      "84/84 [==============================] - 14s 165ms/step - loss: 0.0235 - accuracy: 0.9948\n",
      "Epoch 38/50\n",
      "84/84 [==============================] - 14s 165ms/step - loss: 0.0102 - accuracy: 1.0000\n",
      "Epoch 39/50\n",
      "84/84 [==============================] - 14s 164ms/step - loss: 0.0057 - accuracy: 1.0000\n",
      "Epoch 40/50\n",
      "84/84 [==============================] - 14s 164ms/step - loss: 0.0041 - accuracy: 1.0000\n",
      "Epoch 41/50\n",
      "84/84 [==============================] - 14s 164ms/step - loss: 0.0031 - accuracy: 1.0000\n",
      "Epoch 42/50\n",
      "84/84 [==============================] - 14s 165ms/step - loss: 0.0025 - accuracy: 1.0000\n",
      "Epoch 43/50\n",
      "84/84 [==============================] - 14s 165ms/step - loss: 0.0020 - accuracy: 1.0000\n",
      "Epoch 44/50\n",
      "84/84 [==============================] - 14s 165ms/step - loss: 0.0017 - accuracy: 1.0000\n",
      "Epoch 45/50\n",
      "84/84 [==============================] - 14s 164ms/step - loss: 0.0015 - accuracy: 1.0000\n",
      "Epoch 46/50\n",
      "84/84 [==============================] - 14s 164ms/step - loss: 0.0014 - accuracy: 1.0000\n",
      "Epoch 47/50\n",
      "84/84 [==============================] - 14s 165ms/step - loss: 0.0012 - accuracy: 1.0000\n",
      "Epoch 48/50\n",
      "84/84 [==============================] - 14s 164ms/step - loss: 0.0011 - accuracy: 1.0000\n",
      "Epoch 49/50\n",
      "84/84 [==============================] - 14s 164ms/step - loss: 0.0010 - accuracy: 1.0000\n",
      "Epoch 50/50\n",
      "84/84 [==============================] - 14s 164ms/step - loss: 9.0008e-04 - accuracy: 1.0000\n"
     ]
    },
    {
     "name": "stderr",
     "output_type": "stream",
     "text": [
      "WARNING:absl:Found untraced functions such as _jit_compiled_convolution_op, _jit_compiled_convolution_op while saving (showing 2 of 2). These functions will not be directly callable after loading.\n"
     ]
    },
    {
     "name": "stdout",
     "output_type": "stream",
     "text": [
      "INFO:tensorflow:Assets written to: models/hvair_4\\assets\n"
     ]
    },
    {
     "name": "stderr",
     "output_type": "stream",
     "text": [
      "INFO:tensorflow:Assets written to: models/hvair_4\\assets\n"
     ]
    }
   ]
  },
  {
   "cell_type": "markdown",
   "source": [
    "### Results"
   ],
   "metadata": {
    "collapsed": false
   }
  },
  {
   "cell_type": "markdown",
   "source": [
    "We plot the model accuracy as a function of epochs. Below, we do the same for model loss as a function of epochs. The curves for both look as expected (increasing at decreasing rate for accuracy and decreasing at a decreasing rate for loss)."
   ],
   "metadata": {
    "collapsed": false
   }
  },
  {
   "cell_type": "code",
   "execution_count": 10,
   "outputs": [
    {
     "data": {
      "text/plain": "<Figure size 640x480 with 1 Axes>",
      "image/png": "[encoded data removed]"
     },
     "metadata": {},
     "output_type": "display_data"
    }
   ],
   "source": [
    "plt.plot(history.history['accuracy'])\n",
    "plt.title('model accuracy')\n",
    "plt.ylabel('accuracy')\n",
    "plt.xlabel('epoch')\n",
    "plt.legend(['train', 'val'], loc='upper left')\n",
    "plt.savefig('accuracy.png')\n",
    "plt.show()"
   ],
   "metadata": {
    "collapsed": false,
    "ExecuteTime": {
     "end_time": "2024-09-28T23:03:40.527241800Z",
     "start_time": "2024-09-28T23:03:39.846020900Z"
    }
   }
  },
  {
   "cell_type": "code",
   "execution_count": 11,
   "outputs": [
    {
     "data": {
      "text/plain": "<Figure size 640x480 with 1 Axes>",
      "image/png": "[encoded data removed]"
     },
     "metadata": {},
     "output_type": "display_data"
    }
   ],
   "source": [
    "plt.plot(history.history['loss'])\n",
    "plt.title('model loss')\n",
    "plt.ylabel('loss')\n",
    "plt.xlabel('epoch')\n",
    "plt.legend(['train', 'val'], loc='upper left')\n",
    "plt.savefig('loss.png')\n",
    "plt.show()"
   ],
   "metadata": {
    "collapsed": false,
    "ExecuteTime": {
     "end_time": "2024-09-28T23:03:40.712241200Z",
     "start_time": "2024-09-28T23:03:40.526241800Z"
    }
   }
  },
  {
   "cell_type": "markdown",
   "source": [
    "To check our model performance, we finally employ the test set. We test the test set on the best model, yielding an accuracy of 0.9731, an awesome result, meaning our model is a good fit of the data!"
   ],
   "metadata": {
    "collapsed": false
   }
  },
  {
   "cell_type": "code",
   "execution_count": 12,
   "outputs": [
    {
     "name": "stdout",
     "output_type": "stream",
     "text": [
      "334/334 [==============================] - 2s 5ms/step - loss: 0.0769 - accuracy: 0.9731\n"
     ]
    },
    {
     "data": {
      "text/plain": "[0.07689814269542694, 0.9730538725852966]"
     },
     "execution_count": 12,
     "metadata": {},
     "output_type": "execute_result"
    }
   ],
   "source": [
    "best_model = load_model('best_model.h5')\n",
    "best_model.evaluate(ds_test.batch(1))"
   ],
   "metadata": {
    "collapsed": false,
    "ExecuteTime": {
     "end_time": "2024-09-28T23:03:43.082241900Z",
     "start_time": "2024-09-28T23:03:40.712241200Z"
    }
   }
  }
 ]
}
