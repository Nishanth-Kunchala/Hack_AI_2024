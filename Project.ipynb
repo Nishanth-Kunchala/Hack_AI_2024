{
 "cells": [
  {
   "cell_type": "markdown",
   "source": [
    "**Hack AI 2024**\n",
    "\n",
    "Dataset(s):\n",
    "* https://www.kaggle.com/datasets/ninadaithal/imagesoasis"
   ],
   "metadata": {
    "collapsed": false
   }
  },
  {
   "cell_type": "code",
   "execution_count": 7,
   "outputs": [],
   "source": [
    "import tensorflow as tf\n",
    "import numpy as np\n",
    "import keras\n",
    "from keras import layers\n",
    "from sklearn.model_selection import train_test_split\n",
    "import os"
   ],
   "metadata": {
    "collapsed": false
   }
  },
  {
   "cell_type": "code",
   "execution_count": 8,
   "outputs": [],
   "source": [
    "im_width = 496\n",
    "im_height = 248"
   ],
   "metadata": {
    "collapsed": false
   }
  },
  {
   "cell_type": "code",
   "execution_count": 9,
   "outputs": [],
   "source": [
    "i = 0\n",
    "slices = []\n",
    "for fp in sorted(os.listdir('Stacks')):\n",
    "    if fp.startswith('.'):\n",
    "        continue\n",
    "    for f in sorted(os.listdir(os.path.join('Stacks', fp))):\n",
    "        if f.startswith('.'):\n",
    "            continue\n",
    "        with np.load(os.path.join('Stacks', fp, f)) as data:\n",
    "            features = data['arr_0']\n",
    "            label = (i, )\n",
    "            sl = tf.data.Dataset.from_tensor_slices(\n",
    "                (tf.expand_dims(tf.convert_to_tensor(features, dtype=tf.float32), axis=0), tf.convert_to_tensor(label, dtype=tf.int32)))\n",
    "            slices.append(sl)\n",
    "    i += 1\n",
    "\n",
    "ds = tf.data.Dataset.from_tensor_slices(slices)\n",
    "ds = ds.interleave(\n",
    "    lambda x: x, cycle_length=1, num_parallel_calls=tf.data.AUTOTUNE\n",
    ")"
   ],
   "metadata": {
    "collapsed": false
   }
  },
  {
   "cell_type": "code",
   "execution_count": null,
   "outputs": [
    {
     "name": "stderr",
     "output_type": "stream",
     "text": [
      "2024-02-17 17:26:48.369029: I tensorflow/core/kernels/data/shuffle_dataset_op.cc:422] Filling up shuffle buffer (this may take a while): 7 of 2000\n",
      "2024-02-17 17:26:56.811529: I tensorflow/core/kernels/data/shuffle_dataset_op.cc:422] Filling up shuffle buffer (this may take a while): 11 of 2000\n",
      "2024-02-17 17:27:07.156829: I tensorflow/core/kernels/data/shuffle_dataset_op.cc:422] Filling up shuffle buffer (this may take a while): 16 of 2000\n",
      "2024-02-17 17:27:16.810892: I tensorflow/core/kernels/data/shuffle_dataset_op.cc:422] Filling up shuffle buffer (this may take a while): 20 of 2000\n",
      "2024-02-17 17:27:28.699655: I tensorflow/core/kernels/data/shuffle_dataset_op.cc:422] Filling up shuffle buffer (this may take a while): 24 of 2000\n",
      "2024-02-17 17:27:37.586386: I tensorflow/core/kernels/data/shuffle_dataset_op.cc:422] Filling up shuffle buffer (this may take a while): 27 of 2000\n"
     ]
    }
   ],
   "source": [
    "batch_size = 32\n",
    "ds = ds.batch(batch_size)\n",
    "ds = ds.shuffle(buffer_size=2000)\n",
    "train_ds, test_ds = tf.keras.utils.split_dataset(ds, left_size=0.8)\n",
    "\n",
    "model = keras.models.Sequential([\n",
    "    layers.Input(shape=(im_height, im_width, 61)),\n",
    "    layers.Conv2D(16, 3, padding='same', activation='relu'),\n",
    "    layers.MaxPooling2D(),\n",
    "    layers.Conv2D(32, 3, padding='same', activation='relu'),\n",
    "    layers.MaxPooling2D(),\n",
    "    layers.Conv2D(64, 3, padding='same', activation='relu'),\n",
    "    layers.MaxPooling2D(),\n",
    "    layers.Flatten(),\n",
    "    layers.Dense(128, activation='relu'),\n",
    "    layers.Dense(4)\n",
    "])"
   ],
   "metadata": {
    "collapsed": false
   }
  },
  {
   "cell_type": "code",
   "execution_count": null,
   "outputs": [],
   "source": [],
   "metadata": {
    "collapsed": false
   }
  }
 ],
 "metadata": {
  "kernelspec": {
   "display_name": "Python 3",
   "language": "python",
   "name": "python3"
  },
  "language_info": {
   "codemirror_mode": {
    "name": "ipython",
    "version": 2
   },
   "file_extension": ".py",
   "mimetype": "text/x-python",
   "name": "python",
   "nbconvert_exporter": "python",
   "pygments_lexer": "ipython2",
   "version": "2.7.6"
  }
 },
 "nbformat": 4,
 "nbformat_minor": 0
}
